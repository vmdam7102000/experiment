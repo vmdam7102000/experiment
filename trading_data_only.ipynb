{
 "cells": [
  {
   "cell_type": "code",
   "execution_count": null,
   "id": "9dd5461d",
   "metadata": {},
   "outputs": [],
   "source": [
    "import os\n",
    "import pandas as pd\n",
    "import numpy as np\n",
    "import matplotlib.pyplot as plt\n",
    "import datetime\n",
    "\n",
    "from sklearn.preprocessing import MinMaxScaler\n",
    "\n",
    "plt.style.use('ggplot')"
   ]
  },
  {
   "cell_type": "code",
   "execution_count": null,
   "id": "0a43dec7",
   "metadata": {},
   "outputs": [],
   "source": [
    "df = pd.read_csv('aggregated_data.csv',parse_dates=['date'])\n",
    "df[['unique_active_address', 'sp500', 'gold_price','nlp_compound','nlp_subjectivity','nlp_polarity']]=df[['unique_active_address', 'sp500', 'gold_price','nlp_compound','nlp_subjectivity','nlp_polarity']].fillna(0)\n",
    "df=df[df['date']>='2018-05-01']\n",
    "df = df.fillna(method='bfill')\n",
    "\n",
    "\n",
    "df.set_index('date', drop=True, inplace=True)\n",
    "df.sort_index(inplace=True)\n",
    "df=df.interpolate(method='linear')\n",
    "\n",
    "df.head()"
   ]
  },
  {
   "cell_type": "code",
   "execution_count": null,
   "id": "5f58624c",
   "metadata": {},
   "outputs": [],
   "source": [
    "\n",
    "#different combinations of models\n",
    "\n",
    "#TRADING DATA\n",
    "col_trading_only = ['open','high','low','volume','close']\n",
    "\n",
    "#TRADING DATA + HASHRATE\n",
    "col_trading_hash_rate = ['open','high','low','volume','hash_rate','close']\n",
    "\n",
    "#TRADING DATA + BLOCKCHAIN DATA\n",
    "col_trading_blockchain = ['open','high','low','volume','avg_block_size','difficulty','hash_rate','miner_revenue','unique_active_address','close']\n",
    "\n",
    "#TRADING DATA + SEARCHVOLUME\n",
    "col_trading_search_volume = ['open','high','low','volume','search_volume','close']\n",
    "\n",
    "#TRADING DATA + FNG DATA\n",
    "col_trading_social= ['open','high','low','volume','fng','close']\n",
    "\n",
    "#TRADING DATA + ECONOMIC DATA\n",
    "col_trading_economic = ['open','high','low','volume','sp500','gold','close']\n",
    "\n",
    "#TRADING DATA + SENTIMENT DATA\n",
    "col_trading_sentiment = ['open','high','low','volume','fng','nlp_compound','nlp_subjectivity','nlp_polarity','close']\n",
    "\n",
    "#TRADING DATA + TWITTER DATA\n",
    "col_trading_twitter = ['open','high','low','volume','nlp_compound','nlp_subjectivity','nlp_polarity','close']\n",
    "\n",
    "#ALL_DATA\n",
    "all_data = ['open','high','low','volume','nlp_compound','nlp_subjectivity','nlp_polarity', 'sp500','hash_rate','unique_active_address','close']\n",
    "\n",
    "\n",
    "\n",
    "df_NLP=pd.DataFrame(df,columns=col_trading_only)\n",
    "df_NLP.info()"
   ]
  },
  {
   "cell_type": "code",
   "execution_count": null,
   "id": "5c597fa1",
   "metadata": {},
   "outputs": [],
   "source": [
    "# Train/Test split\n",
    "\n",
    "# Number of periods to incluse in validation split\n",
    "val_periods = 337\n",
    "\n",
    "df_train = df_NLP[:df_NLP.shape[0]-val_periods]\n",
    "df_val = df_NLP[df_NLP.shape[0]-val_periods:]\n",
    "\n",
    "print('Train shape', df_train.shape)\n",
    "print('Validation shape', df_val.shape)\n",
    "\n",
    "\n",
    "scaler = MinMaxScaler()\n",
    "df_train_scaled = scaler.fit_transform(df_train)\n",
    "df_train_scaled.shape\n",
    "\n",
    "scaler_close_price = MinMaxScaler() # Used to inverse_transform close price prediction data\n",
    "train_close_price = scaler_close_price.fit(df_train.close.values.reshape(-1,1))\n"
   ]
  },
  {
   "cell_type": "code",
   "execution_count": null,
   "id": "b36ee193",
   "metadata": {},
   "outputs": [],
   "source": [
    "# Transforms the original time series into the input formar required by the LSTM model\n",
    "\n",
    "nb_timesteps = 3\n",
    "\n",
    "def makeXy(ts, nb_timesteps, features='itself'): \n",
    "    \"\"\" \n",
    "    Input:  \n",
    "           ts: original scaled time series \n",
    "           nb_timesteps: number of time steps in the regressors \n",
    "           features: itself == use the previous values of the label only\n",
    "                     all == use previous values of all avaialable data\n",
    "    Output:  \n",
    "           X: 2-D array of regressors \n",
    "           y: 1-D array of target  \n",
    "   \"\"\"\n",
    "    x_train = []\n",
    "    y_train = []\n",
    "\n",
    "    for i in range(nb_timesteps, ts.shape[0]):\n",
    "        if features == 'itself':\n",
    "            x_train.append(ts[i-nb_timesteps:i,:-1])\n",
    "        else:\n",
    "            x_train.append(ts[i-nb_timesteps:i,0:])\n",
    "        y_train.append(ts[i, -1])\n",
    "\n",
    "    x_train, y_train = np.array(x_train), np.array(y_train)\n",
    "    return x_train, y_train \n",
    "\n",
    "\n",
    "X_train, y_train = makeXy(df_train_scaled, nb_timesteps ,'all')\n",
    "X_train.shape"
   ]
  },
  {
   "cell_type": "code",
   "execution_count": null,
   "id": "0505c1bd",
   "metadata": {},
   "outputs": [],
   "source": [
    "# Reshape validation data\n",
    "data = pd.concat([df_train, df_val], axis=0)\n",
    "data.reset_index(inplace=True, drop=True)\n",
    "\n",
    "val_inputs = data[df_train_scaled.shape[0]-nb_timesteps:].values\n",
    "\n",
    "# Scale validation inputs\n",
    "val_inputs = scaler.transform(val_inputs)\n",
    "\n",
    "X_val, y_val = makeXy(val_inputs, nb_timesteps,'all')\n",
    "X_val.shape"
   ]
  },
  {
   "attachments": {},
   "cell_type": "markdown",
   "id": "fb6e80e7",
   "metadata": {},
   "source": [
    "# LSTM"
   ]
  },
  {
   "cell_type": "code",
   "execution_count": null,
   "id": "0259ba60",
   "metadata": {},
   "outputs": [],
   "source": [
    "from tensorflow.keras.models import Sequential\n",
    "from tensorflow.keras.layers import LSTM, Dense, Dropout, InputLayer\n",
    "from tensorflow.keras.callbacks import Callback, EarlyStopping, ModelCheckpoint,ReduceLROnPlateau,TensorBoard\n",
    "from keras.optimizers import Adam"
   ]
  },
  {
   "cell_type": "code",
   "execution_count": null,
   "id": "3587720b",
   "metadata": {},
   "outputs": [],
   "source": [
    "# Define LSTM Neural Network\n",
    "regressor = Sequential()\n",
    "\n",
    "regressor.add(InputLayer(input_shape=(X_train.shape[1], X_train.shape[2])))\n",
    "regressor.add(LSTM(units=500, return_sequences=True, ))\n",
    "regressor.add(Dropout(rate=0.3))\n",
    "regressor.add(LSTM(units=100, return_sequences=True))\n",
    "regressor.add(Dropout(rate=0.2))\n",
    "regressor.add(LSTM(units=75, return_sequences=True))\n",
    "regressor.add(Dropout(rate = 0.2))\n",
    "regressor.add(LSTM(units=50))\n",
    "regressor.add(Dropout(rate = 0.2))\n",
    "regressor.add(Dense(units=1))\n",
    "\n",
    "\n",
    "regressor.summary()"
   ]
  },
  {
   "cell_type": "code",
   "execution_count": null,
   "id": "78e90008",
   "metadata": {},
   "outputs": [],
   "source": [
    "# Fit and save best parameters of model\n",
    "epoch = 50\n",
    "\n",
    "# Compiler and loss function\n",
    "regressor.compile(loss='mean_squared_error', optimizer = Adam(learning_rate=0.0003))\n",
    "\n",
    "es = EarlyStopping(monitor='val_loss', min_delta=1e-10, patience=10, verbose=1)\n",
    "rlr = ReduceLROnPlateau(monitor='val_loss', factor=0.5, patience=10, verbose=1)\n",
    "\n",
    "# Model Checkpoint\n",
    "model_folder ='lstm_model'\n",
    "model_file = 'model_close_price.hdf5'\n",
    "save_weights_at = os.path.join(model_folder, model_file) \n",
    "mcp = ModelCheckpoint(save_weights_at, monitor='val_loss', verbose=0, \n",
    "                            save_best_only=True, save_weights_only=False, mode='min', \n",
    "                            save_freq='epoch') \n",
    "\n",
    "tb = TensorBoard('logs')\n",
    "# Fit model\n",
    "regressor.fit(X_train, y_train, shuffle=True, epochs=epoch, callbacks=[es, rlr, mcp, tb], validation_data=(X_val, y_val), verbose=1, batch_size=32)"
   ]
  },
  {
   "cell_type": "code",
   "execution_count": null,
   "id": "ffceb327",
   "metadata": {},
   "outputs": [],
   "source": [
    "#regressor.load_weights(model_folder + '\\\\' + 'BTC_close_price_lstm_weights_MV.75-0.0253.hdf5')\n",
    "# Validation predict\n",
    "predicted_price1 = regressor.predict(X_val)\n",
    "predicted_price1 = scaler_close_price.inverse_transform(predicted_price1)\n",
    "predicted_price1 = predicted_price1.reshape(X_val.shape[0])\n",
    "\n",
    "# Train predict\n",
    "predicted_price_train1 = regressor.predict(X_train)\n",
    "predicted_price_train1 = scaler_close_price.inverse_transform(predicted_price_train1)\n",
    "predicted_price_train1 = predicted_price_train1.reshape(X_train.shape[0])"
   ]
  },
  {
   "cell_type": "code",
   "execution_count": null,
   "id": "796c489b",
   "metadata": {},
   "outputs": [],
   "source": [
    "from sklearn.metrics import mean_squared_error, mean_absolute_percentage_error, mean_absolute_error, mean_absolute_percentage_error\n",
    " \n",
    "#training evaluate metrics\n",
    "print('Train RMSE: ',  mean_squared_error(df_train[nb_timesteps:].close, predicted_price_train1, squared=False))\n",
    "print('Train MAE: ', mean_absolute_error(df_train[nb_timesteps:].close, predicted_price_train1))\n",
    "print('Train MAPE: ',  mean_absolute_percentage_error(df_train[nb_timesteps:].close, predicted_price_train1)*100)\n",
    "train_mape1 = mean_absolute_percentage_error(df_train[nb_timesteps:].close, predicted_price_train1)*100\n",
    "\n",
    "#validate evaluate metrics\n",
    "print('Validation RMSE: ',  mean_squared_error(df_val['close'],predicted_price1, squared=False))\n",
    "print('Validation MAE:',  mean_absolute_error(df_val['close'],predicted_price1))\n",
    "print('Validation MAPE: ',  mean_absolute_percentage_error(df_val['close'],predicted_price1)*100)\n",
    "test_mape1 = mean_absolute_percentage_error(df_val['close'],predicted_price1)*100"
   ]
  },
  {
   "attachments": {},
   "cell_type": "markdown",
   "id": "c8db7bbc",
   "metadata": {},
   "source": [
    "# adaboost-LSTM"
   ]
  },
  {
   "cell_type": "code",
   "execution_count": null,
   "id": "977d55a5",
   "metadata": {},
   "outputs": [],
   "source": [
    "# Define LSTM Neural Network\n",
    "def create_model():\n",
    "    regressor = Sequential()\n",
    "\n",
    "    regressor.add(InputLayer(input_shape=(X_train.shape[1], X_train.shape[2])))\n",
    "    regressor.add(LSTM(units=500, return_sequences=True, ))\n",
    "    regressor.add(Dropout(rate=0.3))\n",
    "    regressor.add(LSTM(units=100, return_sequences=True))\n",
    "    regressor.add(Dropout(rate=0.2))\n",
    "    regressor.add(LSTM(units=75, return_sequences=True))\n",
    "    regressor.add(Dropout(rate = 0.2))\n",
    "    regressor.add(LSTM(units=50))\n",
    "    regressor.add(Dropout(rate = 0.2))\n",
    "    regressor.add(Dense(units=1))\n",
    "    regressor.compile(loss='mean_squared_error', optimizer = Adam(learning_rate=0.0003))\n",
    "    return regressor"
   ]
  },
  {
   "cell_type": "code",
   "execution_count": null,
   "id": "8d3a989a",
   "metadata": {},
   "outputs": [],
   "source": [
    "from keras.wrappers.scikit_learn import KerasRegressor\n",
    "# Fit and save best parameters of model\n",
    "epoch = 50\n",
    "\n",
    "\n",
    "es = EarlyStopping(monitor='val_loss', min_delta=1e-10, patience=10, verbose=1)\n",
    "rlr = ReduceLROnPlateau(monitor='val_loss', factor=0.5, patience=10, verbose=1)\n",
    "\n",
    "# Model Checkpoint\n",
    "model_folder ='lstm_model'\n",
    "model_file = 'model_close_price.hdf5'\n",
    "save_weights_at = os.path.join(model_folder, model_file) \n",
    "mcp = ModelCheckpoint(save_weights_at, monitor='val_loss', verbose=0, \n",
    "                            save_best_only=True, save_weights_only=False, mode='min', \n",
    "                            save_freq='epoch') \n",
    "\n",
    "tb = TensorBoard('logs')\n",
    "\n",
    "ann_estimator = KerasRegressor(build_fn = create_model, shuffle=True, epochs=epoch, callbacks=[es, rlr, mcp, tb], validation_data=(X_val, y_val), verbose=1, batch_size=32)"
   ]
  },
  {
   "cell_type": "code",
   "execution_count": null,
   "id": "7f492f7d",
   "metadata": {},
   "outputs": [],
   "source": [
    "# Create directory to save model\n",
    "!mkdir \"lstm_model\""
   ]
  },
  {
   "cell_type": "code",
   "execution_count": null,
   "id": "bbff26f0",
   "metadata": {},
   "outputs": [],
   "source": [
    "from sklearn.ensemble import AdaBoostRegressor\n",
    "boosted_ann = AdaBoostRegressor(base_estimator= ann_estimator,n_estimators=5)\n",
    "boosted_ann.fit(X_train, y_train)# scale your training data "
   ]
  },
  {
   "cell_type": "code",
   "execution_count": null,
   "id": "2113a571",
   "metadata": {},
   "outputs": [],
   "source": [
    "# Validation predict\n",
    "predicted_price = boosted_ann.predict(X_val)\n",
    "predicted_price = scaler_close_price.inverse_transform(predicted_price.reshape(-1,1))\n",
    "predicted_price = predicted_price.reshape(X_val.shape[0])\n",
    "\n",
    "# Train predict\n",
    "predicted_price_train = boosted_ann.predict(X_train)\n",
    "predicted_price_train = scaler_close_price.inverse_transform(predicted_price_train.reshape(-1,1))\n",
    "predicted_price_train = predicted_price_train.reshape(X_train.shape[0])\n"
   ]
  },
  {
   "cell_type": "code",
   "execution_count": null,
   "id": "241441e3",
   "metadata": {},
   "outputs": [],
   "source": [
    "from sklearn.metrics import mean_squared_error, mean_absolute_percentage_error, mean_absolute_error, mean_absolute_percentage_error\n",
    " \n",
    "#training evaluate metrics\n",
    "print('Train RMSE: ',  mean_squared_error(df_train[nb_timesteps:].close, predicted_price_train, squared=False))\n",
    "print('Train MAE: ', mean_absolute_error(df_train[nb_timesteps:].close, predicted_price_train))\n",
    "print('Train MAPE: ',  mean_absolute_percentage_error(df_train[nb_timesteps:].close, predicted_price_train)*100)\n",
    "train_mape = mean_absolute_percentage_error(df_train[nb_timesteps:].close, predicted_price_train)*100\n",
    "\n",
    "#validate evaluate metrics\n",
    "print('Validation RMSE: ',  mean_squared_error(df_val['close'],predicted_price, squared=False))\n",
    "print('Validation MAE:',  mean_absolute_error(df_val['close'],predicted_price))\n",
    "print('Validation MAPE: ',  mean_absolute_percentage_error(df_val['close'],predicted_price)*100)\n",
    "test_mape = mean_absolute_percentage_error(df_val['close'],predicted_price)*100"
   ]
  },
  {
   "cell_type": "code",
   "execution_count": null,
   "id": "757b20f1",
   "metadata": {},
   "outputs": [],
   "source": [
    "import plotly.express as px\n",
    "train_results = pd.DataFrame(df_train['close'][nb_timesteps:])\n",
    "train_results['LSTM training'] = predicted_price_train1\n",
    "train_results['adaboost-LSTM training'] = predicted_price_train\n",
    "test_results = pd.DataFrame(df_val.close)\n",
    "test_results['LSTM validating'] = predicted_price1\n",
    "test_results['adaboost-LSTM validating'] = predicted_price\n"
   ]
  },
  {
   "cell_type": "code",
   "execution_count": null,
   "id": "9cf4ff18",
   "metadata": {},
   "outputs": [],
   "source": [
    "train_results = train_results.rename(columns={'close':'giá đóng cửa thực tế'})\n",
    "test_results = test_results.rename(columns={'close':'giá đóng cửa thực tế'})\n",
    "total_results = pd.concat([train_results,test_results])"
   ]
  },
  {
   "cell_type": "code",
   "execution_count": null,
   "id": "81dd4932",
   "metadata": {},
   "outputs": [],
   "source": [
    "px.line(train_results, \n",
    "        title='<span style=\"color:#012888;font-weight:bold\">Kết quả trên tập data training\\\n",
    "        <br><span style=\"font-size: 13px;color:#444444;\">LSTM Train MAPE %: {:.2f}<br>Adaboost-lSTM Train MAPE %: {:.2f}'.format(train_mape1, train_mape),\n",
    "         labels={\"date\": \"Ngày\",\"value\": \"Giá\"}, width=1800, height=650)"
   ]
  },
  {
   "cell_type": "code",
   "execution_count": null,
   "id": "686d98c1",
   "metadata": {},
   "outputs": [],
   "source": [
    "px.line(test_results, \n",
    "        title='<span style=\"color:#012888;font-weight:bold\">Kết quả trên tập data validating\\\n",
    "        <br><span style=\"font-size: 13px;color:#444444;\">LSTM Validating MAPE %: {:.2f}<br>Adaboost-lSTM Validating MAPE %: {:.2f}'.format(test_mape1,test_mape),\n",
    "         labels={\"date\": \"Ngày\",\"value\": \"Giá\"}, width=1800, height=650)"
   ]
  },
  {
   "cell_type": "code",
   "execution_count": null,
   "id": "5c02414f",
   "metadata": {},
   "outputs": [],
   "source": [
    "px.line(total_results, \n",
    "        title='<span style=\"color:#012888;font-weight:bold\">giá đóng của đồng BTC - đơn vị USD\\\n",
    "        <br><span style=\"font-size: 13px;color:#444444;\">LSTM Train MAPE %: {:.1f}                       lSTM Validation MAPE %: {:.1f}<br>Ada-lSTM Training MAPE %: {:.1f}           Ada-lSTM Validation MAPE %: {:.1f}</span>'.format(train_mape1, test_mape1,train_mape, test_mape),\n",
    "         labels={\"date\": \"Ngày\",\"value\": \"Giá\"}, width=1800, height=650)"
   ]
  },
  {
   "cell_type": "code",
   "execution_count": null,
   "id": "45610a0b",
   "metadata": {},
   "outputs": [],
   "source": []
  }
 ],
 "metadata": {
  "kernelspec": {
   "display_name": ".venv",
   "language": "python",
   "name": "python3"
  },
  "language_info": {
   "codemirror_mode": {
    "name": "ipython",
    "version": 3
   },
   "file_extension": ".py",
   "mimetype": "text/x-python",
   "name": "python",
   "nbconvert_exporter": "python",
   "pygments_lexer": "ipython3",
   "version": "3.9.13 (tags/v3.9.13:6de2ca5, May 17 2022, 16:36:42) [MSC v.1929 64 bit (AMD64)]"
  },
  "vscode": {
   "interpreter": {
    "hash": "9753502baa56b007f7816285758de670cd69a3eb2c0249b33fcc07ab3a1eca5f"
   }
  }
 },
 "nbformat": 4,
 "nbformat_minor": 5
}
